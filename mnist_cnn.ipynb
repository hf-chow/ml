{
 "cells": [
  {
   "cell_type": "code",
   "execution_count": 8,
   "metadata": {},
   "outputs": [],
   "source": [
    "import numpy as np\n",
    "import torch\n",
    "import torch.nn as nn\n",
    "import torch.functional as F\n",
    "import torchvision"
   ]
  },
  {
   "cell_type": "code",
   "execution_count": 9,
   "metadata": {},
   "outputs": [
    {
     "name": "stdout",
     "output_type": "stream",
     "text": [
      "mps\n"
     ]
    }
   ],
   "source": [
    "if torch.backends.mps.is_available():\n",
    "    device = torch.device(\"mps\")\n",
    "elif torch.cuda.is_available():\n",
    "    device = torch.device(\"cuda\")\n",
    "else:\n",
    "    device = torch.device(\"cpu\")\n",
    "\n",
    "print(device)"
   ]
  },
  {
   "cell_type": "code",
   "execution_count": 10,
   "metadata": {},
   "outputs": [
    {
     "ename": "TypeError",
     "evalue": "MNIST.__init__() missing 1 required positional argument: 'root'",
     "output_type": "error",
     "traceback": [
      "\u001b[0;31m---------------------------------------------------------------------------\u001b[0m",
      "\u001b[0;31mTypeError\u001b[0m                                 Traceback (most recent call last)",
      "\u001b[1;32m/Users/nara/fun/ml/mnist_vit.ipynb Cell 3\u001b[0m line \u001b[0;36m2\n\u001b[1;32m      <a href='vscode-notebook-cell:/Users/nara/fun/ml/mnist_vit.ipynb#W2sZmlsZQ%3D%3D?line=0'>1</a>\u001b[0m \u001b[39m# Train and test dataset \u001b[39;00m\n\u001b[0;32m----> <a href='vscode-notebook-cell:/Users/nara/fun/ml/mnist_vit.ipynb#W2sZmlsZQ%3D%3D?line=1'>2</a>\u001b[0m train \u001b[39m=\u001b[39m torchvision\u001b[39m.\u001b[39;49mdatasets\u001b[39m.\u001b[39;49mMNIST()\n\u001b[1;32m      <a href='vscode-notebook-cell:/Users/nara/fun/ml/mnist_vit.ipynb#W2sZmlsZQ%3D%3D?line=2'>3</a>\u001b[0m test \u001b[39m=\u001b[39m torchvision\u001b[39m.\u001b[39mdatasets\u001b[39m.\u001b[39mMNIST()\n",
      "\u001b[0;31mTypeError\u001b[0m: MNIST.__init__() missing 1 required positional argument: 'root'"
     ]
    }
   ],
   "source": [
    "# Train and test dataset \n",
    "train = torchvision.datasets.MNIST()\n",
    "test = torchvision.datasets.MNIST()"
   ]
  },
  {
   "cell_type": "code",
   "execution_count": 11,
   "metadata": {},
   "outputs": [],
   "source": [
    "# dataloader"
   ]
  },
  {
   "cell_type": "code",
   "execution_count": 12,
   "metadata": {},
   "outputs": [],
   "source": [
    "# VIT\n",
    "# Paper https://arxiv.org/abs/2010.11929\n",
    "class ViT(torch.nn.Module):\n",
    "    def __init__(self, P, N, D, H, MLP):\n",
    "        super(ViT, self).__init__()\n",
    "        self.D = D\n",
    "        self.N = N\n",
    "        self.rand = torch.normal(0,1, size=(1, 1, D))\n",
    "        self.location_encoding = torch.tensor([[i for i in range(0,17)]])\n",
    "        self.position_embeddings = nn.Embedding(N+1, D)\n",
    "        self.flatten = nn.Flatten(2)\n",
    "        self.patch_projection = nn.Linear(P*P, D)\n",
    "        self.encoder_1 = nn.TransformerEncoder(\n",
    "            nn.TransformerEncoderLayer(D, H, 3000, activation=\"gelu\"),\n",
    "            num_layers=4\n",
    "        )\n",
    "        self.mlp_1 = nn.Linear(self.D, 250)\n",
    "        self.mlp_2 = nn.Linear(250, 100)\n",
    "        self.mlp_3 = nn.Linear(100, 10)\n",
    "        self.amax = torch.argmax\n",
    "    \n",
    "    def forward(self, x):\n",
    "        rand = self.rand.repeat(x.shape[0], 1, 1)\n",
    "        x_loc = self.position_embeddings(self.location_encoding)\n",
    "        x = self.flatten(x)\n",
    "        x_p = self.patch_projection(x)\n",
    "        encoding = torch.cat([rand, x_p,], dim=1) + x_loc\n",
    "        encoding = F.noramlize(encoding)\n",
    "        z = self.encoder_1(encoding)\n",
    "        head = z[:, 0]\n",
    "        x = self.mlp_1(head)\n",
    "        x = self.mlp_2(x)\n",
    "        x = F.tanh(x)\n",
    "        x = self.mlp_3(x)\n",
    "        output = F.log_softmax(x, dim=1)\n",
    "        return output"
   ]
  },
  {
   "cell_type": "code",
   "execution_count": null,
   "metadata": {},
   "outputs": [],
   "source": []
  }
 ],
 "metadata": {
  "kernelspec": {
   "display_name": "base",
   "language": "python",
   "name": "python3"
  },
  "language_info": {
   "codemirror_mode": {
    "name": "ipython",
    "version": 3
   },
   "file_extension": ".py",
   "mimetype": "text/x-python",
   "name": "python",
   "nbconvert_exporter": "python",
   "pygments_lexer": "ipython3",
   "version": "3.10.9"
  },
  "orig_nbformat": 4
 },
 "nbformat": 4,
 "nbformat_minor": 2
}
